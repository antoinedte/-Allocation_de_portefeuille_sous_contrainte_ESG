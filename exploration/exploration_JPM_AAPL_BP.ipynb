{
 "cells": [
  {
   "cell_type": "markdown",
   "metadata": {},
   "source": [
    "# packages"
   ]
  },
  {
   "cell_type": "code",
   "execution_count": 19,
   "metadata": {},
   "outputs": [],
   "source": [
    "import pandas as pd"
   ]
  },
  {
   "cell_type": "markdown",
   "metadata": {},
   "source": [
    "# Functions"
   ]
  },
  {
   "cell_type": "code",
   "execution_count": 20,
   "metadata": {},
   "outputs": [],
   "source": [
    "def raw_data_to_dataframe(df_unseparated):\n",
    "    \"\"\"From a raw DataFrame returns a clean DataFrame separated on the coma.\n",
    "    \"\"\"\n",
    "\n",
    "    def split_and_expand(row):\n",
    "        \"\"\"Split a string data accross coma\n",
    "        \"\"\"\n",
    "        return pd.Series(row.split(','))    \n",
    "    \n",
    "    columns_name = df_unseparated.columns[0].split(',')\n",
    "\n",
    "    values = df_unseparated['Date,Open,High,Low,Close,Adj Close,Volume'].apply(split_and_expand).values\n",
    "\n",
    "    return pd.DataFrame(values, columns=columns_name)"
   ]
  },
  {
   "cell_type": "markdown",
   "metadata": {},
   "source": [
    "# Download data"
   ]
  },
  {
   "cell_type": "code",
   "execution_count": 21,
   "metadata": {},
   "outputs": [],
   "source": [
    "data_path = \"/Users/antoine/Documents/GitHub/Allocation_de_portefeuille_sous_contrainte_ESG/data/StockPrice_JPM_AAPL_BP.xlsx\"\n",
    "df = pd.read_excel(data_path, sheet_name=None)"
   ]
  },
  {
   "cell_type": "code",
   "execution_count": 22,
   "metadata": {},
   "outputs": [],
   "source": [
    "indices_names = ['AAPL', 'BP', 'JPM']\n",
    "\n",
    "for indice in indices_names:\n",
    "    df[indice] = raw_data_to_dataframe(df[indice])\n",
    "\n",
    "df_AAPL = df['AAPL']\n",
    "df_BP = df['BP']\n",
    "df_JPM = df['JPM']"
   ]
  },
  {
   "cell_type": "markdown",
   "metadata": {},
   "source": [
    "# Efficient frontier visualization"
   ]
  },
  {
   "cell_type": "code",
   "execution_count": null,
   "metadata": {},
   "outputs": [],
   "source": []
  }
 ],
 "metadata": {
  "kernelspec": {
   "display_name": ".venv_allocation_under_ESG",
   "language": "python",
   "name": "python3"
  },
  "language_info": {
   "codemirror_mode": {
    "name": "ipython",
    "version": 3
   },
   "file_extension": ".py",
   "mimetype": "text/x-python",
   "name": "python",
   "nbconvert_exporter": "python",
   "pygments_lexer": "ipython3",
   "version": "3.10.4"
  }
 },
 "nbformat": 4,
 "nbformat_minor": 2
}
