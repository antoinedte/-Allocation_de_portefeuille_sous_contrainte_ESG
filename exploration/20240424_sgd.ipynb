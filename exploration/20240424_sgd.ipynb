{
 "cells": [
  {
   "cell_type": "markdown",
   "metadata": {},
   "source": [
    "https://arxiv.org/pdf/1909.10233.pdf\n"
   ]
  },
  {
   "cell_type": "code",
   "execution_count": null,
   "metadata": {},
   "outputs": [],
   "source": [
    "import numpy as np\n",
    "import pandas as pd\n",
    "from scipy.optimize import minimize\n",
    "\n",
    "\n",
    "def objective_function(weights, returns, gamma, esg_scores):\n",
    "    mu = returns.mean(axis=0).values\n",
    "    cov_matrix = \n",
    "\n",
    "    obj = 1/2 * weights.T @ cov_matrix @ weights - gamma * weights.T @ returns\n",
    "\n",
    "    return obj\n",
    "\n",
    "def objective_gradient(weights, returns, gamma, esg_scores):\n",
    "    mu = returns.mean(axis=0).values\n",
    "    cov_matrix = \n",
    "\n",
    "    grad = cov_matrix @ weights - gamma * returns\n",
    "\n",
    "    return grad\n",
    "\n",
    "def get_one_acceptable_date(dates, batch_size):\n",
    "    random_consecutive_dates = #dates.sample(batch_size)\n",
    "    return random_consecutive_dates\n",
    "\n",
    "def optimize_portfolio(returns, esg_scores, n_epochs=1000, batch_size=20, optimizer = SGD(learning_rate=0.01), gamma=np.linspace(-5, 5, 100)):\n",
    "    n_assets = returns.shape[1]\n",
    "    # init weights\n",
    "    weights = np.ones(n_assets) / n_assets\n",
    "\n",
    "\n",
    "    for i in range(n_epochs):\n",
    "        random_dates = get_one_acceptable_date(dates, batch_size)\n",
    "        returns_bs = returns.loc[random_dates]\n",
    "        esg_scores_bs = esg_scores.loc[random_dates]\n",
    "\n",
    "        grad = objective_gradient(weights, returns, gamma, esg_scores)\n",
    "        weights = optimizer.step(weights, grad)\n",
    "\n",
    "    return weights"
   ]
  },
  {
   "cell_type": "code",
   "execution_count": 19,
   "metadata": {},
   "outputs": [],
   "source": [
    "import numpy as np\n",
    "\n",
    "# objectif Lagrangien\n",
    "def markowitz_objective(weights, returns, cov_matrix, esg_scores, gamma):\n",
    "    portfolio_return = np.dot(returns, weights)\n",
    "    portfolio_risk = np.sqrt(np.dot(weights.T, np.dot(cov_matrix, weights)))\n",
    "    esg_penalty = np.dot(esg_scores, weights)\n",
    "    return -portfolio_return + gamma * portfolio_risk + esg_penalty\n",
    "\n",
    "# \n",
    "def markowitz_gradient(weights, returns_batch, esg_scores_batch, gamma):\n",
    "    n = len(weights)\n",
    "    grad_return = -returns_batch\n",
    "    cov_matrix_batch = np.cov(returns_batch, rowvar=False)\n",
    "    grad_risk = np.dot(cov_matrix_batch, weights) / np.sqrt(np.dot(weights.T, np.dot(cov_matrix_batch, weights)))\n",
    "    grad_esg = np.mean(esg_scores_batch)  # Calculer la moyenne des scores ESG du mini-lot\n",
    "    gradient = grad_return + gamma * grad_risk + grad_esg\n",
    "    return gradient\n",
    "\n",
    "\n",
    "\n",
    "\n",
    "def stochastic_gradient_descent(returns, cov_matrix, esg_scores, gamma, batch_size=32, learning_rate=0.01, max_iter=1000, tol=1e-6):\n",
    "    n = len(returns)\n",
    "    weights = np.random.rand(n)  # Initialisation aléatoire des poids\n",
    "    for _ in range(max_iter):\n",
    "        # Choix aléatoire d'un mini-lot (batch) de données\n",
    "        batch_indices = np.random.choice(n, size=batch_size, replace=False)\n",
    "        returns_batch = returns[batch_indices]\n",
    "        cov_matrix_batch = cov_matrix[batch_indices][:, batch_indices]\n",
    "        esg_scores_batch = esg_scores[batch_indices]\n",
    "\n",
    "        # Calcul du gradient\n",
    "        gradient = markowitz_gradient(weights, returns_batch, esg_scores_batch, gamma)\n",
    "\n",
    "        # Mise à jour des poids\n",
    "        weights -= learning_rate * gradient\n",
    "\n",
    "        # Vérification de la convergence\n",
    "        if np.linalg.norm(gradient) < tol:\n",
    "            break\n",
    "\n",
    "    return weights\n",
    "\n"
   ]
  },
  {
   "cell_type": "code",
   "execution_count": 20,
   "metadata": {},
   "outputs": [
    {
     "ename": "ValueError",
     "evalue": "operands could not be broadcast together with shapes (32,) (1000,) ",
     "output_type": "error",
     "traceback": [
      "\u001b[0;31m---------------------------------------------------------------------------\u001b[0m",
      "\u001b[0;31mValueError\u001b[0m                                Traceback (most recent call last)",
      "Cell \u001b[0;32mIn[20], line 7\u001b[0m\n\u001b[1;32m      4\u001b[0m esg_scores \u001b[38;5;241m=\u001b[39m np\u001b[38;5;241m.\u001b[39mrandom\u001b[38;5;241m.\u001b[39mrand(\u001b[38;5;241m1000\u001b[39m)  \u001b[38;5;66;03m# Exemple de scores ESG\u001b[39;00m\n\u001b[1;32m      5\u001b[0m gamma \u001b[38;5;241m=\u001b[39m \u001b[38;5;241m0.5\u001b[39m\n\u001b[0;32m----> 7\u001b[0m weights \u001b[38;5;241m=\u001b[39m \u001b[43mstochastic_gradient_descent\u001b[49m\u001b[43m(\u001b[49m\u001b[43mreturns\u001b[49m\u001b[43m,\u001b[49m\u001b[43m \u001b[49m\u001b[43mcov_matrix\u001b[49m\u001b[43m,\u001b[49m\u001b[43m \u001b[49m\u001b[43mesg_scores\u001b[49m\u001b[43m,\u001b[49m\u001b[43m \u001b[49m\u001b[43mgamma\u001b[49m\u001b[43m)\u001b[49m\n\u001b[1;32m      8\u001b[0m \u001b[38;5;28mprint\u001b[39m(\u001b[38;5;124m\"\u001b[39m\u001b[38;5;124mPoids du portefeuille optimisé :\u001b[39m\u001b[38;5;124m\"\u001b[39m, weights)\n",
      "Cell \u001b[0;32mIn[19], line 32\u001b[0m, in \u001b[0;36mstochastic_gradient_descent\u001b[0;34m(returns, cov_matrix, esg_scores, gamma, batch_size, learning_rate, max_iter, tol)\u001b[0m\n\u001b[1;32m     29\u001b[0m esg_scores_batch \u001b[38;5;241m=\u001b[39m esg_scores[batch_indices]\n\u001b[1;32m     31\u001b[0m \u001b[38;5;66;03m# Calcul du gradient\u001b[39;00m\n\u001b[0;32m---> 32\u001b[0m gradient \u001b[38;5;241m=\u001b[39m \u001b[43mmarkowitz_gradient\u001b[49m\u001b[43m(\u001b[49m\u001b[43mweights\u001b[49m\u001b[43m,\u001b[49m\u001b[43m \u001b[49m\u001b[43mreturns_batch\u001b[49m\u001b[43m,\u001b[49m\u001b[43m \u001b[49m\u001b[43mesg_scores_batch\u001b[49m\u001b[43m,\u001b[49m\u001b[43m \u001b[49m\u001b[43mgamma\u001b[49m\u001b[43m)\u001b[49m\n\u001b[1;32m     34\u001b[0m \u001b[38;5;66;03m# Mise à jour des poids\u001b[39;00m\n\u001b[1;32m     35\u001b[0m weights \u001b[38;5;241m-\u001b[39m\u001b[38;5;241m=\u001b[39m learning_rate \u001b[38;5;241m*\u001b[39m gradient\n",
      "Cell \u001b[0;32mIn[19], line 15\u001b[0m, in \u001b[0;36mmarkowitz_gradient\u001b[0;34m(weights, returns_batch, esg_scores_batch, gamma)\u001b[0m\n\u001b[1;32m     13\u001b[0m grad_risk \u001b[38;5;241m=\u001b[39m np\u001b[38;5;241m.\u001b[39mdot(cov_matrix_batch, weights) \u001b[38;5;241m/\u001b[39m np\u001b[38;5;241m.\u001b[39msqrt(np\u001b[38;5;241m.\u001b[39mdot(weights\u001b[38;5;241m.\u001b[39mT, np\u001b[38;5;241m.\u001b[39mdot(cov_matrix_batch, weights)))\n\u001b[1;32m     14\u001b[0m grad_esg \u001b[38;5;241m=\u001b[39m np\u001b[38;5;241m.\u001b[39mmean(esg_scores_batch)  \u001b[38;5;66;03m# Calculer la moyenne des scores ESG du mini-lot\u001b[39;00m\n\u001b[0;32m---> 15\u001b[0m gradient \u001b[38;5;241m=\u001b[39m \u001b[43mgrad_return\u001b[49m\u001b[43m \u001b[49m\u001b[38;5;241;43m+\u001b[39;49m\u001b[43m \u001b[49m\u001b[43mgamma\u001b[49m\u001b[43m \u001b[49m\u001b[38;5;241;43m*\u001b[39;49m\u001b[43m \u001b[49m\u001b[43mgrad_risk\u001b[49m \u001b[38;5;241m+\u001b[39m grad_esg\n\u001b[1;32m     16\u001b[0m \u001b[38;5;28;01mreturn\u001b[39;00m gradient\n",
      "\u001b[0;31mValueError\u001b[0m: operands could not be broadcast together with shapes (32,) (1000,) "
     ]
    }
   ],
   "source": [
    "\n",
    "# Exemple d'utilisation\n",
    "returns = np.random.rand(1000)  # Exemple d'un historique de rendements\n",
    "cov_matrix = np.random.rand(1000, 1000)  # Exemple d'une matrice de covariance\n",
    "esg_scores = np.random.rand(1000)  # Exemple de scores ESG\n",
    "gamma = 0.5\n",
    "\n",
    "weights = stochastic_gradient_descent(returns, cov_matrix, esg_scores, gamma)\n",
    "print(\"Poids du portefeuille optimisé :\", weights)\n"
   ]
  },
  {
   "cell_type": "code",
   "execution_count": null,
   "metadata": {},
   "outputs": [],
   "source": []
  }
 ],
 "metadata": {
  "kernelspec": {
   "display_name": ".venv_allocation_under_ESG",
   "language": "python",
   "name": "python3"
  },
  "language_info": {
   "codemirror_mode": {
    "name": "ipython",
    "version": 3
   },
   "file_extension": ".py",
   "mimetype": "text/x-python",
   "name": "python",
   "nbconvert_exporter": "python",
   "pygments_lexer": "ipython3",
   "version": "3.10.4"
  }
 },
 "nbformat": 4,
 "nbformat_minor": 2
}
