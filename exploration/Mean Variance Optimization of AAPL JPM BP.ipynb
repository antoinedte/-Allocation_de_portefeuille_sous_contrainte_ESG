{
 "cells": [
  {
   "cell_type": "code",
   "execution_count": 2,
   "metadata": {},
   "outputs": [],
   "source": [
    "import pandas as pd\n",
    "import warnings\n",
    "warnings.filterwarnings(\"ignore\")\n",
    "pd.options.display.float_format = '{:.4%}'.format\n",
    "\n",
    "import matplotlib.pyplot as plt\n",
    "import numpy as np\n",
    "\n",
    "# Test of stationarity\n",
    "from statsmodels.tsa.stattools import adfuller\n",
    "\n",
    "# Linear Optimization\n",
    "from scipy.optimize import minimize"
   ]
  },
  {
   "cell_type": "code",
   "execution_count": 3,
   "metadata": {},
   "outputs": [],
   "source": [
    "def split_and_expand(row):\n",
    "    \"\"\"Split a string data accross coma\n",
    "    \"\"\"\n",
    "    return pd.Series(row.split(','))   \n",
    "\n",
    "def raw_data_to_dataframe(df_unseparated):\n",
    "    \"\"\"From a raw DataFrame returns a clean DataFrame separated on the coma.\n",
    "    \"\"\" \n",
    "\n",
    "    columns_name = df_unseparated.columns[0].split(',')\n",
    "\n",
    "    values = df_unseparated['Date,Open,High,Low,Close,Adj Close,Volume'].apply(split_and_expand).values\n",
    "\n",
    "    return pd.DataFrame(values, columns=columns_name)\n",
    "\n",
    "def df_of_aggregated_data(df_raw):\n",
    "    \"\"\"From Yahoo.fr export, returns a dataframe with the asset as ticker.\n",
    "    \"\"\"\n",
    "    df_aggregated = pd.DataFrame()\n",
    "\n",
    "    for indice in list(df_raw.keys()):\n",
    "        df_raw[indice] = raw_data_to_dataframe(df_raw[indice])\n",
    "        # Add the ticker on the dataframe\n",
    "        df_raw[indice]['Ticker'] = [indice]*len(df_raw[indice])\n",
    "        # concat all the data frame\n",
    "        df_aggregated = pd.concat([df_aggregated, df_raw[indice]], axis=0)\n",
    "\n",
    "    return df_aggregated.set_index('Date')\n",
    "\n",
    "\n",
    "def convert_index_to_datetime(df):\n",
    "    \"\"\"\n",
    "    Convert the index of a DataFrame from a string date format (YYYY-MM-DD) to datetime format.\n",
    "    \n",
    "    Parameters:\n",
    "    - df: pandas DataFrame\n",
    "    \n",
    "    Returns:\n",
    "    - pandas DataFrame with the index converted to datetime format\n",
    "    \"\"\"\n",
    "    # Check if the DataFrame has an index\n",
    "    if not isinstance(df.index, pd.DatetimeIndex):\n",
    "        # Convert the index to datetime format\n",
    "        df.index = pd.to_datetime(df.index)\n",
    "    \n",
    "    return df\n",
    "    \n",
    "def transform_df_with_str_values_into_float(df, columns_to_change):\n",
    "    df[columns_to_change] = df[columns_to_change].apply(pd.to_numeric, errors='coerce')\n",
    "    return df\n",
    "\n",
    "def crop_dataframe(df, begin_date='1000-01-01', end_date='3000-01-01', all_dates=False):\n",
    "    \"\"\"\n",
    "    Crop a DataFrame between two specified dates, keeping all occurrences of the dates if specified.\n",
    "\n",
    "    Parameters:\n",
    "    - df: pandas DataFrame\n",
    "    - begin_date: str, format 'YYYY-MM-DD'\n",
    "    - end_date: str, format 'YYYY-MM-DD'\n",
    "    - all_dates: bool, if True, keep all data, regardless of the date interval (default: False)\n",
    "\n",
    "    Returns:\n",
    "    - pandas DataFrame cropped between begin_date and end_date (or the original DataFrame if all_dates is True)\n",
    "    \"\"\"\n",
    "    # If all_dates is True, return the original DataFrame\n",
    "    if all_dates:\n",
    "        return df\n",
    "    \n",
    "    else:\n",
    "        # Convert input dates to datetime format\n",
    "        begin_date = pd.to_datetime(begin_date)\n",
    "        end_date = pd.to_datetime(end_date)\n",
    "\n",
    "        # Boolean indexing to keep all occurrences of dates within the specified interval\n",
    "        cropped_df = df[(df.index >= begin_date) & (df.index <= end_date)]\n",
    "\n",
    "        return cropped_df\n",
    "\n",
    "\n",
    "# Functions for empirical moments\n",
    "def get_mu_hat(gross_returns_table, end_date_for_the_empirical_sum):\n",
    "    \n",
    "    mu_hat_TIME_T = gross_returns_table.loc[:pd.to_datetime(end_date_for_the_empirical_sum)].mean(axis=0)\n",
    "\n",
    "    return mu_hat_TIME_T.values\n",
    "\n",
    "def get_omega_hat(gross_returns_table, end_date_for_the_empirical_sum):\n",
    "    mu_hat = get_mu_hat(gross_returns_table=gross_returns_table, end_date_for_the_empirical_sum=end_date_for_the_empirical_sum)\n",
    "    Y_minus_mu_hat = gross_returns_table - mu_hat\n",
    "\n",
    "    omega_hat = np.zeros((len(Y_minus_mu_hat.columns),len(Y_minus_mu_hat.columns)))\n",
    "    \n",
    "    for date in Y_minus_mu_hat.index:\n",
    "        Y_date_minus_mu_hat = Y_minus_mu_hat.loc[date].values.reshape(len(Y_minus_mu_hat.columns), 1)\n",
    "        matrix_product_for_date = np.dot(Y_date_minus_mu_hat, Y_date_minus_mu_hat.T)\n",
    "        omega_hat += matrix_product_for_date\n",
    "\n",
    "    omega_hat /= len(omega_hat)\n",
    "    \n",
    "    return omega_hat\n"
   ]
  },
  {
   "cell_type": "code",
   "execution_count": 4,
   "metadata": {},
   "outputs": [],
   "source": [
    "DATA_PATH = \"StockPrice_JPM_AAPL_BP.xlsx\""
   ]
  },
  {
   "cell_type": "code",
   "execution_count": 5,
   "metadata": {},
   "outputs": [],
   "source": [
    "df = pd.read_excel(DATA_PATH, sheet_name=None)\n",
    "df_aggregated = df_of_aggregated_data(df)\n",
    "df_aggregated_in_datetime = convert_index_to_datetime(df_aggregated)\n",
    "df_clean = transform_df_with_str_values_into_float(df_aggregated_in_datetime, columns_to_change = df_aggregated_in_datetime.columns.drop('Ticker'))"
   ]
  },
  {
   "cell_type": "code",
   "execution_count": 7,
   "metadata": {},
   "outputs": [],
   "source": [
    "df_clean = df_clean[['Adj Close',\"Ticker\"]]"
   ]
  },
  {
   "cell_type": "code",
   "execution_count": 8,
   "metadata": {},
   "outputs": [],
   "source": [
    "df_clean = df_clean[df_clean['Ticker']== 'AAPL'][['Adj Close']].rename(columns = {'Adj Close': 'AAPL'}).merge(df_clean[df_clean['Ticker']== 'JPM'][['Adj Close']].rename(columns = {'Adj Close': 'JPM'}),left_index=True, right_index=True).merge(df_clean[df_clean['Ticker']== 'BP'][['Adj Close']].rename(columns = {'Adj Close': 'BP'}),left_index=True, right_index=True)"
   ]
  },
  {
   "cell_type": "code",
   "execution_count": 9,
   "metadata": {},
   "outputs": [
    {
     "data": {
      "text/html": [
       "<div>\n",
       "<style scoped>\n",
       "    .dataframe tbody tr th:only-of-type {\n",
       "        vertical-align: middle;\n",
       "    }\n",
       "\n",
       "    .dataframe tbody tr th {\n",
       "        vertical-align: top;\n",
       "    }\n",
       "\n",
       "    .dataframe thead th {\n",
       "        text-align: right;\n",
       "    }\n",
       "</style>\n",
       "<table border=\"1\" class=\"dataframe\">\n",
       "  <thead>\n",
       "    <tr style=\"text-align: right;\">\n",
       "      <th></th>\n",
       "      <th>AAPL</th>\n",
       "      <th>JPM</th>\n",
       "      <th>BP</th>\n",
       "    </tr>\n",
       "    <tr>\n",
       "      <th>Date</th>\n",
       "      <th></th>\n",
       "      <th></th>\n",
       "      <th></th>\n",
       "    </tr>\n",
       "  </thead>\n",
       "  <tbody>\n",
       "    <tr>\n",
       "      <th>1985-02-01</th>\n",
       "      <td>-14.6550%</td>\n",
       "      <td>5.0000%</td>\n",
       "      <td>0.5602%</td>\n",
       "    </tr>\n",
       "    <tr>\n",
       "      <th>1985-03-01</th>\n",
       "      <td>-10.6059%</td>\n",
       "      <td>-4.7619%</td>\n",
       "      <td>6.9610%</td>\n",
       "    </tr>\n",
       "    <tr>\n",
       "      <th>1985-04-01</th>\n",
       "      <td>-3.9552%</td>\n",
       "      <td>2.6316%</td>\n",
       "      <td>4.4973%</td>\n",
       "    </tr>\n",
       "    <tr>\n",
       "      <th>1985-05-01</th>\n",
       "      <td>-18.2352%</td>\n",
       "      <td>9.2409%</td>\n",
       "      <td>-3.0381%</td>\n",
       "    </tr>\n",
       "    <tr>\n",
       "      <th>1985-06-01</th>\n",
       "      <td>3.5972%</td>\n",
       "      <td>-0.3021%</td>\n",
       "      <td>-0.6320%</td>\n",
       "    </tr>\n",
       "    <tr>\n",
       "      <th>...</th>\n",
       "      <td>...</td>\n",
       "      <td>...</td>\n",
       "      <td>...</td>\n",
       "    </tr>\n",
       "    <tr>\n",
       "      <th>2023-07-01</th>\n",
       "      <td>1.2785%</td>\n",
       "      <td>8.6084%</td>\n",
       "      <td>5.6956%</td>\n",
       "    </tr>\n",
       "    <tr>\n",
       "      <th>2023-08-01</th>\n",
       "      <td>-4.3675%</td>\n",
       "      <td>-6.7264%</td>\n",
       "      <td>-0.3217%</td>\n",
       "    </tr>\n",
       "    <tr>\n",
       "      <th>2023-09-01</th>\n",
       "      <td>-8.7448%</td>\n",
       "      <td>-0.8952%</td>\n",
       "      <td>5.3697%</td>\n",
       "    </tr>\n",
       "    <tr>\n",
       "      <th>2023-10-01</th>\n",
       "      <td>-0.2570%</td>\n",
       "      <td>-4.1098%</td>\n",
       "      <td>-5.5269%</td>\n",
       "    </tr>\n",
       "    <tr>\n",
       "      <th>2023-11-01</th>\n",
       "      <td>6.8162%</td>\n",
       "      <td>4.5266%</td>\n",
       "      <td>-5.1941%</td>\n",
       "    </tr>\n",
       "  </tbody>\n",
       "</table>\n",
       "<p>466 rows × 3 columns</p>\n",
       "</div>"
      ],
      "text/plain": [
       "                AAPL      JPM       BP\n",
       "Date                                  \n",
       "1985-02-01 -14.6550%  5.0000%  0.5602%\n",
       "1985-03-01 -10.6059% -4.7619%  6.9610%\n",
       "1985-04-01  -3.9552%  2.6316%  4.4973%\n",
       "1985-05-01 -18.2352%  9.2409% -3.0381%\n",
       "1985-06-01   3.5972% -0.3021% -0.6320%\n",
       "...              ...      ...      ...\n",
       "2023-07-01   1.2785%  8.6084%  5.6956%\n",
       "2023-08-01  -4.3675% -6.7264% -0.3217%\n",
       "2023-09-01  -8.7448% -0.8952%  5.3697%\n",
       "2023-10-01  -0.2570% -4.1098% -5.5269%\n",
       "2023-11-01   6.8162%  4.5266% -5.1941%\n",
       "\n",
       "[466 rows x 3 columns]"
      ]
     },
     "execution_count": 9,
     "metadata": {},
     "output_type": "execute_result"
    }
   ],
   "source": [
    "# Calculating returns\n",
    "\n",
    "Y = df_clean.pct_change().dropna()\n",
    "\n",
    "Y"
   ]
  },
  {
   "cell_type": "markdown",
   "metadata": {},
   "source": [
    "## 2. Estimating Mean Variance Portfolios\n",
    "\n",
    "### 2.1 Calculating the portfolio that maximizes Sharpe ratio."
   ]
  },
  {
   "cell_type": "code",
   "execution_count": 10,
   "metadata": {},
   "outputs": [
    {
     "data": {
      "text/html": [
       "<div>\n",
       "<style scoped>\n",
       "    .dataframe tbody tr th:only-of-type {\n",
       "        vertical-align: middle;\n",
       "    }\n",
       "\n",
       "    .dataframe tbody tr th {\n",
       "        vertical-align: top;\n",
       "    }\n",
       "\n",
       "    .dataframe thead th {\n",
       "        text-align: right;\n",
       "    }\n",
       "</style>\n",
       "<table border=\"1\" class=\"dataframe\">\n",
       "  <thead>\n",
       "    <tr style=\"text-align: right;\">\n",
       "      <th></th>\n",
       "      <th>AAPL</th>\n",
       "      <th>JPM</th>\n",
       "      <th>BP</th>\n",
       "    </tr>\n",
       "  </thead>\n",
       "  <tbody>\n",
       "    <tr>\n",
       "      <th>weights</th>\n",
       "      <td>42.2531%</td>\n",
       "      <td>28.1403%</td>\n",
       "      <td>29.6065%</td>\n",
       "    </tr>\n",
       "  </tbody>\n",
       "</table>\n",
       "</div>"
      ],
      "text/plain": [
       "            AAPL      JPM       BP\n",
       "weights 42.2531% 28.1403% 29.6065%"
      ]
     },
     "metadata": {},
     "output_type": "display_data"
    }
   ],
   "source": [
    "import riskfolio as rp\n",
    "\n",
    "\n",
    "# Building the portfolio object\n",
    "port = rp.Portfolio(returns=Y)\n",
    "\n",
    "# Calculating optimal portfolio\n",
    "\n",
    "# Select method and estimate input parameters:\n",
    "\n",
    "method_mu='hist' # Method to estimate expected returns based on historical data.\n",
    "method_cov='hist' # Method to estimate covariance matrix based on historical data.\n",
    "\n",
    "port.assets_stats(method_mu=method_mu, method_cov=method_cov, d=0.94)\n",
    "\n",
    "# Estimate optimal portfolio:\n",
    "\n",
    "model='Classic' # Could be Classic (historical), BL (Black Litterman) or FM (Factor Model)\n",
    "rm = 'MV' # Risk measure used, this time will be variance\n",
    "obj = 'Sharpe' # Objective function, could be MinRisk, MaxRet, Utility or Sharpe\n",
    "hist = True # Use historical scenarios for risk measures that depend on scenarios\n",
    "rf = 0 # Risk free rate\n",
    "l = 0 # Risk aversion factor, only useful when obj is 'Utility'\n",
    "\n",
    "w = port.optimization(model=model, rm=rm, obj=obj, rf=rf, l=l, hist=hist)\n",
    "\n",
    "display(w.T)"
   ]
  },
  {
   "cell_type": "markdown",
   "metadata": {},
   "source": [
    "### 2.2 Plotting portfolio composition"
   ]
  },
  {
   "cell_type": "code",
   "execution_count": 11,
   "metadata": {
    "scrolled": false
   },
   "outputs": [
    {
     "data": {
      "image/png": "[encoded data removed]",
      "text/plain": [
       "<Figure size 720x432 with 1 Axes>"
      ]
     },
     "metadata": {},
     "output_type": "display_data"
    }
   ],
   "source": [
    "# Plotting the composition of the portfolio\n",
    "\n",
    "ax = rp.plot_pie(w=w, title='Sharpe Mean Variance', others=0.05, nrow=25, cmap = \"tab20\",\n",
    "                 height=6, width=10, ax=None)"
   ]
  },
  {
   "cell_type": "markdown",
   "metadata": {},
   "source": [
    "### 2.3 Calculate efficient frontier"
   ]
  },
  {
   "cell_type": "code",
   "execution_count": 12,
   "metadata": {},
   "outputs": [
    {
     "data": {
      "text/html": [
       "<div>\n",
       "<style scoped>\n",
       "    .dataframe tbody tr th:only-of-type {\n",
       "        vertical-align: middle;\n",
       "    }\n",
       "\n",
       "    .dataframe tbody tr th {\n",
       "        vertical-align: top;\n",
       "    }\n",
       "\n",
       "    .dataframe thead th {\n",
       "        text-align: right;\n",
       "    }\n",
       "</style>\n",
       "<table border=\"1\" class=\"dataframe\">\n",
       "  <thead>\n",
       "    <tr style=\"text-align: right;\">\n",
       "      <th></th>\n",
       "      <th>AAPL</th>\n",
       "      <th>JPM</th>\n",
       "      <th>BP</th>\n",
       "    </tr>\n",
       "  </thead>\n",
       "  <tbody>\n",
       "    <tr>\n",
       "      <th>0</th>\n",
       "      <td>13.3271%</td>\n",
       "      <td>28.8009%</td>\n",
       "      <td>57.8720%</td>\n",
       "    </tr>\n",
       "    <tr>\n",
       "      <th>1</th>\n",
       "      <td>23.0467%</td>\n",
       "      <td>28.5836%</td>\n",
       "      <td>48.3698%</td>\n",
       "    </tr>\n",
       "    <tr>\n",
       "      <th>2</th>\n",
       "      <td>27.1412%</td>\n",
       "      <td>28.4880%</td>\n",
       "      <td>44.3708%</td>\n",
       "    </tr>\n",
       "    <tr>\n",
       "      <th>3</th>\n",
       "      <td>30.3284%</td>\n",
       "      <td>28.4146%</td>\n",
       "      <td>41.2571%</td>\n",
       "    </tr>\n",
       "    <tr>\n",
       "      <th>4</th>\n",
       "      <td>33.0532%</td>\n",
       "      <td>28.3511%</td>\n",
       "      <td>38.5957%</td>\n",
       "    </tr>\n",
       "  </tbody>\n",
       "</table>\n",
       "</div>"
      ],
      "text/plain": [
       "      AAPL      JPM       BP\n",
       "0 13.3271% 28.8009% 57.8720%\n",
       "1 23.0467% 28.5836% 48.3698%\n",
       "2 27.1412% 28.4880% 44.3708%\n",
       "3 30.3284% 28.4146% 41.2571%\n",
       "4 33.0532% 28.3511% 38.5957%"
      ]
     },
     "execution_count": 12,
     "metadata": {},
     "output_type": "execute_result"
    }
   ],
   "source": [
    "points = 50# Number of points of the frontier\n",
    "\n",
    "frontier = port.efficient_frontier(model=model, rm=rm, points=points, rf=rf, hist=hist)\n",
    "\n",
    "frontier.T.head()"
   ]
  },
  {
   "cell_type": "code",
   "execution_count": 15,
   "metadata": {},
   "outputs": [
    {
     "data": {
      "image/png": "[encoded data removed]",
      "text/plain": [
       "<Figure size 720x432 with 2 Axes>"
      ]
     },
     "metadata": {
      "needs_background": "light"
     },
     "output_type": "display_data"
    }
   ],
   "source": [
    "# Plotting the efficient frontier\n",
    "\n",
    "label = 'Max Risk Adjusted Return Portfolio' # Title of point\n",
    "mu = port.mu # Expected returns\n",
    "cov = port.cov # Covariance matrix\n",
    "returns = port.returns # Returns of the assets\n",
    "\n",
    "ax = rp.plot_frontier(w_frontier=frontier, mu=mu, cov=cov, returns=returns, rm=rm,\n",
    "                      rf=rf, alpha=0.05, cmap='viridis', w=w, label=label,\n",
    "                      marker='*', s=16, c='r', height=6, width=10, ax=None)"
   ]
  },
  {
   "cell_type": "code",
   "execution_count": null,
   "metadata": {},
   "outputs": [],
   "source": [
    "# Plotting efficient frontier composition\n",
    "\n",
    "ax = rp.plot_frontier_area(w_frontier=frontier, cmap=\"tab20\", height=6, width=10, ax=None)"
   ]
  },
  {
   "cell_type": "markdown",
   "metadata": {},
   "source": [
    "## 3. Estimating Mean Risk Portfolios\n",
    "\n",
    "In this part I will calculate optimal portfolios for several risk measures. First I'm going to calculate the portfolio that maximizes risk adjusted return when CVaR is the risk measure, then I'm going to calculate the portfolios that maximize the risk adjusted return for all available risk measures.\n",
    "\n",
    "### 3.1 Calculating the portfolio that maximizes Return/CVaR ratio."
   ]
  },
  {
   "cell_type": "code",
   "execution_count": null,
   "metadata": {},
   "outputs": [],
   "source": [
    "rm = 'CVaR' # Risk measure\n",
    "\n",
    "w = port.optimization(model=model, rm=rm, obj=obj, rf=rf, l=l, hist=hist)\n",
    "\n",
    "display(w.T)"
   ]
  },
  {
   "cell_type": "markdown",
   "metadata": {},
   "source": [
    "### 3.2 Plotting portfolio composition"
   ]
  },
  {
   "cell_type": "code",
   "execution_count": null,
   "metadata": {},
   "outputs": [],
   "source": [
    "ax = rp.plot_pie(w=w, title='Sharpe Mean CVaR', others=0.05, nrow=25, cmap = \"tab20\",\n",
    "                 height=6, width=10, ax=None)"
   ]
  },
  {
   "cell_type": "markdown",
   "metadata": {},
   "source": [
    "### 3.3 Calculate efficient frontier"
   ]
  },
  {
   "cell_type": "code",
   "execution_count": null,
   "metadata": {},
   "outputs": [],
   "source": [
    "points = 50 # Number of points of the frontier\n",
    "\n",
    "frontier = port.efficient_frontier(model=model, rm=rm, points=points, rf=rf, hist=hist)\n",
    "\n",
    "display(frontier.T.head())"
   ]
  },
  {
   "cell_type": "code",
   "execution_count": null,
   "metadata": {},
   "outputs": [],
   "source": [
    "label = 'Max Risk Adjusted Return Portfolio' # Title of point\n",
    "\n",
    "ax = rp.plot_frontier(w_frontier=frontier, mu=mu, cov=cov, returns=returns, rm=rm,\n",
    "                      rf=rf, alpha=0.05, cmap='viridis', w=w, label=label,\n",
    "                      marker='*', s=16, c='r', height=6, width=10, ax=None)"
   ]
  },
  {
   "cell_type": "code",
   "execution_count": null,
   "metadata": {},
   "outputs": [],
   "source": [
    "# Plotting efficient frontier composition\n",
    "\n",
    "ax = rp.plot_frontier_area(w_frontier=frontier, cmap=\"tab20\", height=6, width=10, ax=None)"
   ]
  },
  {
   "cell_type": "markdown",
   "metadata": {},
   "source": [
    "### 3.4 Calculate Optimal Portfolios for Several Risk Measures"
   ]
  },
  {
   "cell_type": "code",
   "execution_count": null,
   "metadata": {},
   "outputs": [],
   "source": [
    "# Risk Measures available:\n",
    "#\n",
    "# 'MV': Standard Deviation.\n",
    "# 'MAD': Mean Absolute Deviation.\n",
    "# 'MSV': Semi Standard Deviation.\n",
    "# 'FLPM': First Lower Partial Moment (Omega Ratio).\n",
    "# 'SLPM': Second Lower Partial Moment (Sortino Ratio).\n",
    "# 'CVaR': Conditional Value at Risk.\n",
    "# 'EVaR': Entropic Value at Risk.\n",
    "# 'WR': Worst Realization (Minimax)\n",
    "# 'MDD': Maximum Drawdown of uncompounded cumulative returns (Calmar Ratio).\n",
    "# 'ADD': Average Drawdown of uncompounded cumulative returns.\n",
    "# 'CDaR': Conditional Drawdown at Risk of uncompounded cumulative returns.\n",
    "# 'EDaR': Entropic Drawdown at Risk of uncompounded cumulative returns.\n",
    "# 'UCI': Ulcer Index of uncompounded cumulative returns.\n",
    "\n",
    "rms = ['MV', 'MAD', 'MSV', 'FLPM', 'SLPM', 'CVaR',\n",
    "       'EVaR', 'WR', 'MDD', 'ADD', 'CDaR', 'UCI', 'EDaR']\n",
    "\n",
    "w_s = pd.DataFrame([])\n",
    "\n",
    "for i in rms:\n",
    "    w = port.optimization(model=model, rm=i, obj=obj, rf=rf, l=l, hist=hist)\n",
    "    w_s = pd.concat([w_s, w], axis=1)\n",
    "    \n",
    "w_s.columns = rms"
   ]
  },
  {
   "cell_type": "code",
   "execution_count": null,
   "metadata": {},
   "outputs": [],
   "source": [
    "w_s.style.format(\"{:.2%}\").background_gradient(cmap='YlGn')"
   ]
  },
  {
   "cell_type": "code",
   "execution_count": null,
   "metadata": {},
   "outputs": [],
   "source": [
    "import matplotlib.pyplot as plt\n",
    "\n",
    "# Plotting a comparison of assets weights for each portfolio\n",
    "\n",
    "fig = plt.gcf()\n",
    "fig.set_figwidth(14)\n",
    "fig.set_figheight(6)\n",
    "ax = fig.subplots(nrows=1, ncols=1)\n",
    "\n",
    "w_s.plot.bar(ax=ax)"
   ]
  }
 ],
 "metadata": {
  "kernelspec": {
   "display_name": "Python 3 (ipykernel)",
   "language": "python",
   "name": "python3"
  },
  "language_info": {
   "codemirror_mode": {
    "name": "ipython",
    "version": 3
   },
   "file_extension": ".py",
   "mimetype": "text/x-python",
   "name": "python",
   "nbconvert_exporter": "python",
   "pygments_lexer": "ipython3",
   "version": "3.8.8"
  }
 },
 "nbformat": 4,
 "nbformat_minor": 4
}
